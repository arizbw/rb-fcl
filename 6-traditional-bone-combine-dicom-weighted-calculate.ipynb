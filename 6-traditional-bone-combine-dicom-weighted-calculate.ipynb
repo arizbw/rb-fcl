{
 "cells": [
  {
   "cell_type": "code",
   "execution_count": 1,
   "metadata": {
    "collapsed": true
   },
   "outputs": [],
   "source": [
    "import os\n",
    "import pandas as pd\n",
    "from sklearn import preprocessing\n",
    "import numpy as np\n",
    "from sklearn.decomposition import PCA"
   ]
  },
  {
   "cell_type": "code",
   "execution_count": 2,
   "metadata": {
    "collapsed": true
   },
   "outputs": [],
   "source": [
    "df_class = pd.read_csv(\"hand-atlas/export_dicom.csv\")\n",
    "Y=df_class[\"boneage\"]\n"
   ]
  },
  {
   "cell_type": "code",
   "execution_count": 3,
   "metadata": {},
   "outputs": [
    {
     "data": {
      "text/plain": [
       "[False, True]"
      ]
     },
     "execution_count": 3,
     "metadata": {},
     "output_type": "execute_result"
    }
   ],
   "source": [
    "le = preprocessing.LabelEncoder()\n",
    "le.fit(df_class['male'])\n",
    "list(le.classes_)"
   ]
  },
  {
   "cell_type": "code",
   "execution_count": 4,
   "metadata": {},
   "outputs": [
    {
     "data": {
      "text/plain": [
       "(1386,)"
      ]
     },
     "execution_count": 4,
     "metadata": {},
     "output_type": "execute_result"
    }
   ],
   "source": [
    "label_class = le.transform(df_class['male']) \n",
    "label_class.shape"
   ]
  },
  {
   "cell_type": "code",
   "execution_count": 5,
   "metadata": {
    "collapsed": true
   },
   "outputs": [],
   "source": [
    "#df_fmaps_1 = pd.read_csv(\"result-3-dicom-inception-v3-6-tl-class-1-weighted.csv\", header=None)\n",
    "#df_fmaps_2 = pd.read_csv(\"result-3-dicom-inception-v3-6-tl-class-2-weighted.csv\", header=None)\n",
    "#df_fmaps_3 = pd.read_csv(\"result-3-dicom-inception-v3-6-tl-class-3-weighted.csv\", header=None)\n",
    "#df_fmaps_4 = pd.read_csv(\"result-3-dicom-inception-v3-6-tl-class-4-weighted.csv\", header=None)\n",
    "df_fmaps_5 = pd.read_csv(\"result-3-dicom-inception-v3-6-tl-class-5-weighted.csv\", header=None)"
   ]
  },
  {
   "cell_type": "code",
   "execution_count": 6,
   "metadata": {
    "collapsed": true
   },
   "outputs": [],
   "source": [
    "df_fmaps_21 = pd.read_csv(\"result-3-dicom-densenet-6-tl-class-1-weighted.csv\", header=None)\n",
    "df_fmaps_22 = pd.read_csv(\"result-3-dicom-densenet-6-tl-class-2-weighted.csv\", header=None)\n",
    "df_fmaps_23 = pd.read_csv(\"result-3-dicom-densenet-6-tl-class-3-weighted.csv\", header=None)\n",
    "df_fmaps_24 = pd.read_csv(\"result-3-dicom-densenet-6-tl-class-4-weighted.csv\", header=None)\n",
    "df_fmaps_25 = pd.read_csv(\"result-3-dicom-densenet-6-tl-class-5-weighted.csv\", header=None)"
   ]
  },
  {
   "cell_type": "code",
   "execution_count": 7,
   "metadata": {
    "collapsed": true
   },
   "outputs": [],
   "source": [
    "df_fmaps_31 = pd.read_csv(\"result-3-dicom-inception-resnet-6-tl-class-1-weighted.csv\", header=None)\n",
    "df_fmaps_32 = pd.read_csv(\"result-3-dicom-inception-resnet-6-tl-class-2-weighted.csv\", header=None)\n",
    "df_fmaps_33 = pd.read_csv(\"result-3-dicom-inception-resnet-6-tl-class-3-weighted.csv\", header=None)\n",
    "df_fmaps_34 = pd.read_csv(\"result-3-dicom-inception-resnet-6-tl-class-4-weighted.csv\", header=None)\n",
    "df_fmaps_35 = pd.read_csv(\"result-3-dicom-inception-resnet-6-tl-class-5-weighted.csv\", header=None)"
   ]
  },
  {
   "cell_type": "code",
   "execution_count": 5,
   "metadata": {
    "collapsed": true
   },
   "outputs": [],
   "source": [
    "df_fmaps_10 = pd.read_csv(\"result-inceptionv3-6-tl-dicom-kaggle.csv\", header=None)\n",
    "df_fmaps_15 = pd.read_csv(\"result-inception-resnet-6-std-dicom-kaggle.csv\", header=None)\n",
    "df_fmaps_12 = pd.read_csv(\"result-densenet-6-tl-dicom-kaggle.csv\", header=None)"
   ]
  },
  {
   "cell_type": "code",
   "execution_count": 79,
   "metadata": {
    "collapsed": true
   },
   "outputs": [],
   "source": [
    "#df_features_1 = pd.concat([df_fmaps_1,df_fmaps_2,df_fmaps_3,df_fmaps_4,df_fmaps_5,df_fmaps_10,df_fmaps_15,df_fmaps_12], ignore_index=True, axis=1)\n",
    "#df_features_1 = pd.concat([df_fmaps_1,df_fmaps_2,df_fmaps_3,df_fmaps_4,df_fmaps_5], ignore_index=True, axis=1)\n",
    "#df_features_1 = pd.concat([df_fmaps_21,df_fmaps_22,df_fmaps_23,df_fmaps_24,df_fmaps_25,df_fmaps_10,df_fmaps_15,df_fmaps_12], ignore_index=True, axis=1)\n",
    "#df_features_1 = pd.concat([df_fmaps_21,df_fmaps_22,df_fmaps_23,df_fmaps_24,df_fmaps_25], ignore_index=True, axis=1)\n",
    "#df_features_1 = pd.concat([df_fmaps_31,df_fmaps_32,df_fmaps_33,df_fmaps_34,df_fmaps_35,df_fmaps_10,df_fmaps_15,df_fmaps_12], ignore_index=True, axis=1)\n",
    "df_features_1 = pd.concat([df_fmaps_31,df_fmaps_32,df_fmaps_33,df_fmaps_34,df_fmaps_35], ignore_index=True, axis=1)\n",
    "#df_features_1 = pd.concat([df_fmaps_1,df_fmaps_2,df_fmaps_3,df_fmaps_4,df_fmaps_5,df_fmaps_21,df_fmaps_22,df_fmaps_23,df_fmaps_24,df_fmaps_25,df_fmaps_31,df_fmaps_32,df_fmaps_33,df_fmaps_34,df_fmaps_35,df_fmaps_10,df_fmaps_15,df_fmaps_12], ignore_index=True, axis=1)\n",
    "df_features_1 = pd.concat([df_fmaps_3,df_fmaps_4,df_fmaps_5,df_fmaps_23,df_fmaps_24,df_fmaps_25,df_fmaps_33,df_fmaps_34,df_fmaps_35,df_fmaps_10,df_fmaps_15,df_fmaps_12], ignore_index=True, axis=1)\n",
    "df_features_2 = df_features_1.fillna(0)\n",
    "#df_features_3 = pd.concat([df_fmaps_10,df_fmaps_15,df_fmaps_12], ignore_index=True, axis=1)\n",
    "#df_features_4 = df_features_3.fillna(0)"
   ]
  },
  {
   "cell_type": "code",
   "execution_count": 6,
   "metadata": {},
   "outputs": [
    {
     "data": {
      "text/plain": [
       "(1386, 1024)"
      ]
     },
     "execution_count": 6,
     "metadata": {},
     "output_type": "execute_result"
    }
   ],
   "source": [
    "df_fmaps_10.shape"
   ]
  },
  {
   "cell_type": "code",
   "execution_count": 80,
   "metadata": {},
   "outputs": [
    {
     "data": {
      "text/plain": [
       "(1386, 50)"
      ]
     },
     "execution_count": 80,
     "metadata": {},
     "output_type": "execute_result"
    }
   ],
   "source": [
    "pca = PCA(n_components=50)\n",
    "d_features_a = pca.fit(df_features_2)\n",
    "X = pca.transform(df_features_2)\n",
    "X.shape"
   ]
  },
  {
   "cell_type": "code",
   "execution_count": 81,
   "metadata": {},
   "outputs": [
    {
     "data": {
      "text/plain": [
       "(1386, 70)"
      ]
     },
     "execution_count": 81,
     "metadata": {},
     "output_type": "execute_result"
    }
   ],
   "source": [
    "#add male label\n",
    "label_class_reshape = label_class.reshape(1386,1)\n",
    "X_class = label_class_reshape\n",
    "for i in range(19):\n",
    "#for i in range(2):\n",
    "    X_class=np.concatenate((X_class,label_class_reshape),axis=1)\n",
    "    #print(X_class.shape)\n",
    "X=np.concatenate((X,X_class),axis=1)\n",
    "X.shape"
   ]
  },
  {
   "cell_type": "code",
   "execution_count": 82,
   "metadata": {},
   "outputs": [
    {
     "data": {
      "text/plain": [
       "(1108, 70)"
      ]
     },
     "execution_count": 82,
     "metadata": {},
     "output_type": "execute_result"
    }
   ],
   "source": [
    "import numpy as np\n",
    "from sklearn.model_selection import train_test_split\n",
    "X_train, X_test, y_train, y_test = train_test_split(X, Y, test_size=0.2, random_state=42)\n",
    "X_train.shape"
   ]
  },
  {
   "cell_type": "code",
   "execution_count": 83,
   "metadata": {},
   "outputs": [
    {
     "name": "stdout",
     "output_type": "stream",
     "text": [
      "Classifier,MAE,RMSE,MAPE\n",
      "LinearRegression,7.098,120.2,7.196\n",
      "Ridge,7.098,120.2,7.196\n",
      "Lasso,7.097,120.2,7.191\n",
      "KNeighborsRegressor,8.704,155.8,10.33\n",
      "SVR,11.36,258.2,26.12\n",
      "RandomForestRegressor,7.894,133.6,8.503\n",
      "DecisionTreeRegressor,10.1,212.3,11.17\n",
      "AdaBoostRegressor,11.29,227.1,13.51\n",
      "GradientBoostingRegressor,9.018,156.2,9.514\n"
     ]
    }
   ],
   "source": [
    "from sklearn import metrics\n",
    "from sklearn.metrics import mean_absolute_error\n",
    "from sklearn.metrics import mean_squared_error\n",
    "from sklearn.metrics import accuracy_score, log_loss\n",
    "from sklearn.neighbors import KNeighborsRegressor\n",
    "from sklearn.svm import SVR\n",
    "from sklearn.tree import DecisionTreeRegressor\n",
    "from sklearn.ensemble import RandomForestRegressor, AdaBoostRegressor, GradientBoostingRegressor\n",
    "from sklearn.linear_model import LinearRegression\n",
    "from sklearn.linear_model import Ridge\n",
    "from sklearn.linear_model import Lasso\n",
    "\n",
    "import numpy as np\n",
    "def mean_absolute_percentage_error(y_true, y_pred): \n",
    "    y_true, y_pred = np.array(y_true), np.array(y_pred)\n",
    "    return np.mean(np.abs((y_true - y_pred) / y_true)) * 100\n",
    "\n",
    "classifiers = [\n",
    "    LinearRegression(),\n",
    "    Ridge(alpha=0.001),\n",
    "    Lasso(alpha=0.001),\n",
    "    KNeighborsRegressor(10),\n",
    "    SVR(),\n",
    "    RandomForestRegressor(max_depth=10, random_state=42,n_estimators=100),\n",
    "    DecisionTreeRegressor(),\n",
    "    AdaBoostRegressor(n_estimators=1000,learning_rate=0.000001),\n",
    "    GradientBoostingRegressor(learning_rate=0.1, min_samples_split=10,min_samples_leaf=10,max_depth=20,max_features='sqrt',subsample=0.8,random_state=10)\n",
    "]\n",
    "# Logging for Visual Comparison\n",
    "log_cols=[\"Regressor\", \"MAE\", \"RMSE\", \"MAPE\"]\n",
    "log = pd.DataFrame(columns=log_cols)\n",
    "print(\"Classifier\"+\",\"+\"MAE\"+\",\"+\"RMSE\"+\",\"+\"MAPE\")\n",
    "\n",
    "y_stack_prediction = 0.0\n",
    "for clf in classifiers:\n",
    "    clf.fit(X_train, y_train)\n",
    "    name = clf.__class__.__name__\n",
    "    \n",
    "    #print(\"=\"*30)\n",
    "    #print(name)\n",
    "    \n",
    "    #print('****Results****')\n",
    "    train_predictions = clf.predict(X_test)\n",
    "    acc = mean_absolute_error(y_test, train_predictions)\n",
    "    ll = mean_squared_error(y_test, train_predictions)\n",
    "    mape = mean_absolute_percentage_error(y_test, train_predictions)\n",
    "    print(name+\",\"+\"{:.4}\".format(acc)+\",\"+\"{:.4}\".format(ll)+\",\"+\"{:.4}\".format(mape))\n",
    "\n",
    "    \n",
    "    log_entry = pd.DataFrame([[name, acc, ll, mape]], columns=log_cols)\n",
    "    log = log.append(log_entry)\n",
    "    #y_stack_prediction += train_predictions\n",
    "#print(\"=\"*30)\n",
    "#y_combine = y_stack_prediction / 2"
   ]
  },
  {
   "cell_type": "code",
   "execution_count": null,
   "metadata": {
    "collapsed": true
   },
   "outputs": [],
   "source": []
  },
  {
   "cell_type": "code",
   "execution_count": null,
   "metadata": {
    "collapsed": true
   },
   "outputs": [],
   "source": []
  },
  {
   "cell_type": "code",
   "execution_count": null,
   "metadata": {
    "collapsed": true
   },
   "outputs": [],
   "source": []
  }
 ],
 "metadata": {
  "kernelspec": {
   "display_name": "chexnet",
   "language": "python",
   "name": "chexnet"
  },
  "language_info": {
   "codemirror_mode": {
    "name": "ipython",
    "version": 3
   },
   "file_extension": ".py",
   "mimetype": "text/x-python",
   "name": "python",
   "nbconvert_exporter": "python",
   "pygments_lexer": "ipython3",
   "version": "3.6.9"
  }
 },
 "nbformat": 4,
 "nbformat_minor": 2
}
